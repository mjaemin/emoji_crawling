{
 "cells": [
  {
   "cell_type": "markdown",
   "id": "15e3df9f",
   "metadata": {},
   "source": [
    "# emoji 크롤링 및 파싱"
   ]
  },
  {
   "cell_type": "code",
   "execution_count": 87,
   "id": "c46b1477",
   "metadata": {},
   "outputs": [],
   "source": [
    "import pandas as pd"
   ]
  },
  {
   "cell_type": "code",
   "execution_count": 1,
   "id": "9b00af0d",
   "metadata": {},
   "outputs": [
    {
     "ename": "FileNotFoundError",
     "evalue": "[Errno 2] No such file or directory: 'country_data.xml'",
     "output_type": "error",
     "traceback": [
      "\u001b[0;31m---------------------------------------------------------------------------\u001b[0m",
      "\u001b[0;31mFileNotFoundError\u001b[0m                         Traceback (most recent call last)",
      "Input \u001b[0;32mIn [1]\u001b[0m, in \u001b[0;36m<cell line: 2>\u001b[0;34m()\u001b[0m\n\u001b[1;32m      1\u001b[0m \u001b[38;5;28;01mimport\u001b[39;00m \u001b[38;5;21;01mxml\u001b[39;00m\u001b[38;5;21;01m.\u001b[39;00m\u001b[38;5;21;01metree\u001b[39;00m\u001b[38;5;21;01m.\u001b[39;00m\u001b[38;5;21;01mElementTree\u001b[39;00m \u001b[38;5;28;01mas\u001b[39;00m \u001b[38;5;21;01mET\u001b[39;00m\n\u001b[0;32m----> 2\u001b[0m tree \u001b[38;5;241m=\u001b[39m \u001b[43mET\u001b[49m\u001b[38;5;241;43m.\u001b[39;49m\u001b[43mparse\u001b[49m\u001b[43m(\u001b[49m\u001b[38;5;124;43m'\u001b[39;49m\u001b[38;5;124;43mcountry_data.xml\u001b[39;49m\u001b[38;5;124;43m'\u001b[39;49m\u001b[43m)\u001b[49m\n\u001b[1;32m      3\u001b[0m root \u001b[38;5;241m=\u001b[39m tree\u001b[38;5;241m.\u001b[39mgetroot()\n",
      "File \u001b[0;32m~/opt/anaconda3/lib/python3.9/xml/etree/ElementTree.py:1229\u001b[0m, in \u001b[0;36mparse\u001b[0;34m(source, parser)\u001b[0m\n\u001b[1;32m   1220\u001b[0m \u001b[38;5;124;03m\"\"\"Parse XML document into element tree.\u001b[39;00m\n\u001b[1;32m   1221\u001b[0m \n\u001b[1;32m   1222\u001b[0m \u001b[38;5;124;03m*source* is a filename or file object containing XML data,\u001b[39;00m\n\u001b[0;32m   (...)\u001b[0m\n\u001b[1;32m   1226\u001b[0m \n\u001b[1;32m   1227\u001b[0m \u001b[38;5;124;03m\"\"\"\u001b[39;00m\n\u001b[1;32m   1228\u001b[0m tree \u001b[38;5;241m=\u001b[39m ElementTree()\n\u001b[0;32m-> 1229\u001b[0m \u001b[43mtree\u001b[49m\u001b[38;5;241;43m.\u001b[39;49m\u001b[43mparse\u001b[49m\u001b[43m(\u001b[49m\u001b[43msource\u001b[49m\u001b[43m,\u001b[49m\u001b[43m \u001b[49m\u001b[43mparser\u001b[49m\u001b[43m)\u001b[49m\n\u001b[1;32m   1230\u001b[0m \u001b[38;5;28;01mreturn\u001b[39;00m tree\n",
      "File \u001b[0;32m~/opt/anaconda3/lib/python3.9/xml/etree/ElementTree.py:569\u001b[0m, in \u001b[0;36mElementTree.parse\u001b[0;34m(self, source, parser)\u001b[0m\n\u001b[1;32m    567\u001b[0m close_source \u001b[38;5;241m=\u001b[39m \u001b[38;5;28;01mFalse\u001b[39;00m\n\u001b[1;32m    568\u001b[0m \u001b[38;5;28;01mif\u001b[39;00m \u001b[38;5;129;01mnot\u001b[39;00m \u001b[38;5;28mhasattr\u001b[39m(source, \u001b[38;5;124m\"\u001b[39m\u001b[38;5;124mread\u001b[39m\u001b[38;5;124m\"\u001b[39m):\n\u001b[0;32m--> 569\u001b[0m     source \u001b[38;5;241m=\u001b[39m \u001b[38;5;28;43mopen\u001b[39;49m\u001b[43m(\u001b[49m\u001b[43msource\u001b[49m\u001b[43m,\u001b[49m\u001b[43m \u001b[49m\u001b[38;5;124;43m\"\u001b[39;49m\u001b[38;5;124;43mrb\u001b[39;49m\u001b[38;5;124;43m\"\u001b[39;49m\u001b[43m)\u001b[49m\n\u001b[1;32m    570\u001b[0m     close_source \u001b[38;5;241m=\u001b[39m \u001b[38;5;28;01mTrue\u001b[39;00m\n\u001b[1;32m    571\u001b[0m \u001b[38;5;28;01mtry\u001b[39;00m:\n",
      "\u001b[0;31mFileNotFoundError\u001b[0m: [Errno 2] No such file or directory: 'country_data.xml'"
     ]
    }
   ],
   "source": [
    "import xml.etree.ElementTree as ET\n",
    "tree = ET.parse('country_data.xml')\n",
    "root = tree.getroot()"
   ]
  },
  {
   "cell_type": "code",
   "execution_count": 3,
   "id": "90525c6e",
   "metadata": {},
   "outputs": [],
   "source": [
    "from urllib.request import urlopen\n",
    "import xml.etree.ElementTree as ET\n",
    "with urlopen('https://raw.githubusercontent.com/unicode-org/cldr/latest/common/annotations/ko.xml') as f:\n",
    "    tree = ET.parse(f)\n",
    "    root = tree.getroot()\n",
    "    \n",
    "    root"
   ]
  },
  {
   "cell_type": "code",
   "execution_count": 4,
   "id": "771b39c4",
   "metadata": {},
   "outputs": [
    {
     "data": {
      "text/plain": [
       "'\\n\\t'"
      ]
     },
     "execution_count": 4,
     "metadata": {},
     "output_type": "execute_result"
    }
   ],
   "source": [
    "root.text"
   ]
  },
  {
   "cell_type": "code",
   "execution_count": 9,
   "id": "d07db9f6",
   "metadata": {},
   "outputs": [
    {
     "name": "stdout",
     "output_type": "stream",
     "text": [
      "identity {}\n",
      "annotations {}\n"
     ]
    }
   ],
   "source": [
    "for i in root:\n",
    "    print(i.tag, i.attrib)"
   ]
  },
  {
   "cell_type": "code",
   "execution_count": 10,
   "id": "bb96ba2a",
   "metadata": {},
   "outputs": [
    {
     "name": "stdout",
     "output_type": "stream",
     "text": [
      "하얀 피부\n"
     ]
    }
   ],
   "source": [
    "print(root[1][1].text)"
   ]
  },
  {
   "cell_type": "code",
   "execution_count": 11,
   "id": "0c7a1f5e",
   "metadata": {},
   "outputs": [
    {
     "name": "stdout",
     "output_type": "stream",
     "text": [
      "<Element 'ldml' at 0x7fed9922a7c0>\n"
     ]
    }
   ],
   "source": [
    "print(root)"
   ]
  },
  {
   "cell_type": "code",
   "execution_count": 13,
   "id": "4c80d1d7",
   "metadata": {},
   "outputs": [
    {
     "data": {
      "text/plain": [
       "xml.etree.ElementTree.Element"
      ]
     },
     "execution_count": 13,
     "metadata": {},
     "output_type": "execute_result"
    }
   ],
   "source": [
    "type(root)"
   ]
  },
  {
   "cell_type": "code",
   "execution_count": 14,
   "id": "fa501da6",
   "metadata": {},
   "outputs": [
    {
     "data": {
      "text/plain": [
       "2"
      ]
     },
     "execution_count": 14,
     "metadata": {},
     "output_type": "execute_result"
    }
   ],
   "source": [
    "len(root)"
   ]
  },
  {
   "cell_type": "code",
   "execution_count": 15,
   "id": "793a9721",
   "metadata": {},
   "outputs": [
    {
     "data": {
      "text/plain": [
       "<Element 'annotations' at 0x7fed9922a900>"
      ]
     },
     "execution_count": 15,
     "metadata": {},
     "output_type": "execute_result"
    }
   ],
   "source": [
    "root[1]"
   ]
  },
  {
   "cell_type": "code",
   "execution_count": 26,
   "id": "10b4c775",
   "metadata": {},
   "outputs": [
    {
     "ename": "IndexError",
     "evalue": "child index out of range",
     "output_type": "error",
     "traceback": [
      "\u001b[0;31m---------------------------------------------------------------------------\u001b[0m",
      "\u001b[0;31mIndexError\u001b[0m                                Traceback (most recent call last)",
      "Input \u001b[0;32mIn [26]\u001b[0m, in \u001b[0;36m<cell line: 1>\u001b[0;34m()\u001b[0m\n\u001b[0;32m----> 1\u001b[0m root[\u001b[38;5;241m1\u001b[39m][\u001b[38;5;241m2\u001b[39m]\u001b[38;5;241m.\u001b[39mtext, \u001b[43mroot\u001b[49m\u001b[43m[\u001b[49m\u001b[38;5;241;43m0\u001b[39;49m\u001b[43m]\u001b[49m\u001b[43m[\u001b[49m\u001b[38;5;241;43m2\u001b[39;49m\u001b[43m]\u001b[49m\u001b[38;5;241m.\u001b[39mtext\n",
      "\u001b[0;31mIndexError\u001b[0m: child index out of range"
     ]
    }
   ],
   "source": [
    "root[1][2].text, root[0][2].text"
   ]
  },
  {
   "cell_type": "code",
   "execution_count": 36,
   "id": "86f69b03",
   "metadata": {},
   "outputs": [
    {
     "data": {
      "text/plain": [
       "'연한 갈색 피부 | 타입 삼 | 피부톤'"
      ]
     },
     "execution_count": 36,
     "metadata": {},
     "output_type": "execute_result"
    }
   ],
   "source": [
    "root[1][2].text"
   ]
  },
  {
   "cell_type": "code",
   "execution_count": 53,
   "id": "13a3ea01",
   "metadata": {},
   "outputs": [
    {
     "data": {
      "text/plain": [
       "({'cp': '🤌'}, '꼬집는 | 빈정대는 | 손가락 | 손동작 | 질문')"
      ]
     },
     "execution_count": 53,
     "metadata": {},
     "output_type": "execute_result"
    }
   ],
   "source": [
    "root[1][12].attrib, root[1][12].text"
   ]
  },
  {
   "cell_type": "code",
   "execution_count": 54,
   "id": "ff350391",
   "metadata": {},
   "outputs": [
    {
     "data": {
      "text/plain": [
       "({'cp': '🤌', 'type': 'tts'}, '꼬집는 손가락')"
      ]
     },
     "execution_count": 54,
     "metadata": {},
     "output_type": "execute_result"
    }
   ],
   "source": [
    "root[1][13].attrib, root[1][13].text"
   ]
  },
  {
   "cell_type": "code",
   "execution_count": 55,
   "id": "d2df4da1",
   "metadata": {},
   "outputs": [
    {
     "data": {
      "text/plain": [
       "({'cp': '🏻'}, '타입 일 다시 이 | 피부톤 | 하얀 피부')"
      ]
     },
     "execution_count": 55,
     "metadata": {},
     "output_type": "execute_result"
    }
   ],
   "source": [
    "root[1][0].attrib, root[1][0].text"
   ]
  },
  {
   "cell_type": "code",
   "execution_count": 79,
   "id": "ead9ed08",
   "metadata": {},
   "outputs": [
    {
     "data": {
      "text/plain": [
       "('🦬', '들소')"
      ]
     },
     "execution_count": 79,
     "metadata": {},
     "output_type": "execute_result"
    }
   ],
   "source": [
    "root.findall(\".//*[@type='tts']\")[13].attrib['cp'], root.findall(\".//*[@type='tts']\")[13].text"
   ]
  },
  {
   "cell_type": "code",
   "execution_count": 76,
   "id": "0e48ea22",
   "metadata": {},
   "outputs": [
    {
     "data": {
      "text/plain": [
       "1497"
      ]
     },
     "execution_count": 76,
     "metadata": {},
     "output_type": "execute_result"
    }
   ],
   "source": [
    "len(root.findall(\".//*[@type='tts']\"))"
   ]
  },
  {
   "cell_type": "code",
   "execution_count": 81,
   "id": "713f555a",
   "metadata": {},
   "outputs": [
    {
     "data": {
      "text/plain": [
       "str"
      ]
     },
     "execution_count": 81,
     "metadata": {},
     "output_type": "execute_result"
    }
   ],
   "source": [
    "type(root.findall(\".//*[@type='tts']\")[13].attrib['cp'])"
   ]
  },
  {
   "cell_type": "code",
   "execution_count": 82,
   "id": "a5358f54",
   "metadata": {},
   "outputs": [
    {
     "ename": "AttributeError",
     "evalue": "'list' object has no attribute 'attrib'",
     "output_type": "error",
     "traceback": [
      "\u001b[0;31m---------------------------------------------------------------------------\u001b[0m",
      "\u001b[0;31mAttributeError\u001b[0m                            Traceback (most recent call last)",
      "Input \u001b[0;32mIn [82]\u001b[0m, in \u001b[0;36m<cell line: 1>\u001b[0;34m()\u001b[0m\n\u001b[0;32m----> 1\u001b[0m \u001b[43mroot\u001b[49m\u001b[38;5;241;43m.\u001b[39;49m\u001b[43mfindall\u001b[49m\u001b[43m(\u001b[49m\u001b[38;5;124;43m\"\u001b[39;49m\u001b[38;5;124;43m.//*[@type=\u001b[39;49m\u001b[38;5;124;43m'\u001b[39;49m\u001b[38;5;124;43mtts\u001b[39;49m\u001b[38;5;124;43m'\u001b[39;49m\u001b[38;5;124;43m]\u001b[39;49m\u001b[38;5;124;43m\"\u001b[39;49m\u001b[43m)\u001b[49m\u001b[38;5;241;43m.\u001b[39;49m\u001b[43mattrib\u001b[49m[\u001b[38;5;124m'\u001b[39m\u001b[38;5;124mcp\u001b[39m\u001b[38;5;124m'\u001b[39m]\n",
      "\u001b[0;31mAttributeError\u001b[0m: 'list' object has no attribute 'attrib'"
     ]
    }
   ],
   "source": [
    "root.findall(\".//*[@type='tts']\").attrib['cp']"
   ]
  },
  {
   "cell_type": "code",
   "execution_count": 84,
   "id": "0c020693",
   "metadata": {},
   "outputs": [],
   "source": [
    "a=map(lambda x: x.attrib['cp'], root.findall(\".//*[@type='tts']\")) "
   ]
  },
  {
   "cell_type": "code",
   "execution_count": 86,
   "id": "329a818c",
   "metadata": {},
   "outputs": [
    {
     "ename": "TypeError",
     "evalue": "'map' object is not subscriptable",
     "output_type": "error",
     "traceback": [
      "\u001b[0;31m---------------------------------------------------------------------------\u001b[0m",
      "\u001b[0;31mTypeError\u001b[0m                                 Traceback (most recent call last)",
      "Input \u001b[0;32mIn [86]\u001b[0m, in \u001b[0;36m<cell line: 1>\u001b[0;34m()\u001b[0m\n\u001b[0;32m----> 1\u001b[0m \u001b[43ma\u001b[49m\u001b[43m[\u001b[49m\u001b[38;5;241;43m1\u001b[39;49m\u001b[43m]\u001b[49m\n",
      "\u001b[0;31mTypeError\u001b[0m: 'map' object is not subscriptable"
     ]
    }
   ],
   "source": []
  },
  {
   "cell_type": "code",
   "execution_count": 96,
   "id": "f4e15ab2",
   "metadata": {},
   "outputs": [],
   "source": [
    "from urllib.request import urlopen\n",
    "import xml.etree.ElementTree as ET\n",
    "with urlopen('https://raw.githubusercontent.com/unicode-org/cldr/latest/common/annotations/ko.xml') as f:\n",
    "    df = pd.read_xml(f, xpath=\".//annotation\")"
   ]
  },
  {
   "cell_type": "code",
   "execution_count": 97,
   "id": "9a7fe00c",
   "metadata": {},
   "outputs": [
    {
     "data": {
      "text/html": [
       "<div>\n",
       "<style scoped>\n",
       "    .dataframe tbody tr th:only-of-type {\n",
       "        vertical-align: middle;\n",
       "    }\n",
       "\n",
       "    .dataframe tbody tr th {\n",
       "        vertical-align: top;\n",
       "    }\n",
       "\n",
       "    .dataframe thead th {\n",
       "        text-align: right;\n",
       "    }\n",
       "</style>\n",
       "<table border=\"1\" class=\"dataframe\">\n",
       "  <thead>\n",
       "    <tr style=\"text-align: right;\">\n",
       "      <th></th>\n",
       "      <th>cp</th>\n",
       "      <th>annotation</th>\n",
       "      <th>type</th>\n",
       "    </tr>\n",
       "  </thead>\n",
       "  <tbody>\n",
       "    <tr>\n",
       "      <th>0</th>\n",
       "      <td>🏻</td>\n",
       "      <td>타입 일 다시 이 | 피부톤 | 하얀 피부</td>\n",
       "      <td>None</td>\n",
       "    </tr>\n",
       "    <tr>\n",
       "      <th>1</th>\n",
       "      <td>🏻</td>\n",
       "      <td>하얀 피부</td>\n",
       "      <td>tts</td>\n",
       "    </tr>\n",
       "    <tr>\n",
       "      <th>2</th>\n",
       "      <td>🏼</td>\n",
       "      <td>연한 갈색 피부 | 타입 삼 | 피부톤</td>\n",
       "      <td>None</td>\n",
       "    </tr>\n",
       "    <tr>\n",
       "      <th>3</th>\n",
       "      <td>🏼</td>\n",
       "      <td>연한 갈색 피부</td>\n",
       "      <td>tts</td>\n",
       "    </tr>\n",
       "    <tr>\n",
       "      <th>4</th>\n",
       "      <td>🏽</td>\n",
       "      <td>갈색 피부 | 타입 사 | 피부톤</td>\n",
       "      <td>None</td>\n",
       "    </tr>\n",
       "    <tr>\n",
       "      <th>...</th>\n",
       "      <td>...</td>\n",
       "      <td>...</td>\n",
       "      <td>...</td>\n",
       "    </tr>\n",
       "    <tr>\n",
       "      <th>2989</th>\n",
       "      <td>🏳‍⚧</td>\n",
       "      <td>트랜스젠더 깃발</td>\n",
       "      <td>tts</td>\n",
       "    </tr>\n",
       "    <tr>\n",
       "      <th>2990</th>\n",
       "      <td>🏳‍🌈</td>\n",
       "      <td>깃발 | 무지개</td>\n",
       "      <td>None</td>\n",
       "    </tr>\n",
       "    <tr>\n",
       "      <th>2991</th>\n",
       "      <td>🏳‍🌈</td>\n",
       "      <td>무지개 깃발</td>\n",
       "      <td>tts</td>\n",
       "    </tr>\n",
       "    <tr>\n",
       "      <th>2992</th>\n",
       "      <td>🏴‍☠</td>\n",
       "      <td>보물섬 | 약탈자 | 해골 깃발 | 해적 | 해적 깃발</td>\n",
       "      <td>None</td>\n",
       "    </tr>\n",
       "    <tr>\n",
       "      <th>2993</th>\n",
       "      <td>🏴‍☠</td>\n",
       "      <td>해적 깃발</td>\n",
       "      <td>tts</td>\n",
       "    </tr>\n",
       "  </tbody>\n",
       "</table>\n",
       "<p>2994 rows × 3 columns</p>\n",
       "</div>"
      ],
      "text/plain": [
       "       cp                      annotation  type\n",
       "0       🏻         타입 일 다시 이 | 피부톤 | 하얀 피부  None\n",
       "1       🏻                           하얀 피부   tts\n",
       "2       🏼           연한 갈색 피부 | 타입 삼 | 피부톤  None\n",
       "3       🏼                        연한 갈색 피부   tts\n",
       "4       🏽              갈색 피부 | 타입 사 | 피부톤  None\n",
       "...   ...                             ...   ...\n",
       "2989  🏳‍⚧                        트랜스젠더 깃발   tts\n",
       "2990  🏳‍🌈                        깃발 | 무지개  None\n",
       "2991  🏳‍🌈                          무지개 깃발   tts\n",
       "2992  🏴‍☠  보물섬 | 약탈자 | 해골 깃발 | 해적 | 해적 깃발  None\n",
       "2993  🏴‍☠                           해적 깃발   tts\n",
       "\n",
       "[2994 rows x 3 columns]"
      ]
     },
     "execution_count": 97,
     "metadata": {},
     "output_type": "execute_result"
    }
   ],
   "source": [
    "df"
   ]
  },
  {
   "cell_type": "code",
   "execution_count": 105,
   "id": "61fd64dc",
   "metadata": {},
   "outputs": [
    {
     "data": {
      "text/html": [
       "<div>\n",
       "<style scoped>\n",
       "    .dataframe tbody tr th:only-of-type {\n",
       "        vertical-align: middle;\n",
       "    }\n",
       "\n",
       "    .dataframe tbody tr th {\n",
       "        vertical-align: top;\n",
       "    }\n",
       "\n",
       "    .dataframe thead th {\n",
       "        text-align: right;\n",
       "    }\n",
       "</style>\n",
       "<table border=\"1\" class=\"dataframe\">\n",
       "  <thead>\n",
       "    <tr style=\"text-align: right;\">\n",
       "      <th></th>\n",
       "      <th>cp</th>\n",
       "      <th>annotation</th>\n",
       "      <th>type</th>\n",
       "    </tr>\n",
       "  </thead>\n",
       "  <tbody>\n",
       "    <tr>\n",
       "      <th>0</th>\n",
       "      <td>🏻</td>\n",
       "      <td>하얀 피부</td>\n",
       "      <td>tts</td>\n",
       "    </tr>\n",
       "    <tr>\n",
       "      <th>1</th>\n",
       "      <td>🏼</td>\n",
       "      <td>연한 갈색 피부</td>\n",
       "      <td>tts</td>\n",
       "    </tr>\n",
       "    <tr>\n",
       "      <th>2</th>\n",
       "      <td>🏽</td>\n",
       "      <td>갈색 피부</td>\n",
       "      <td>tts</td>\n",
       "    </tr>\n",
       "    <tr>\n",
       "      <th>3</th>\n",
       "      <td>🏾</td>\n",
       "      <td>진한 갈색 피부</td>\n",
       "      <td>tts</td>\n",
       "    </tr>\n",
       "    <tr>\n",
       "      <th>4</th>\n",
       "      <td>🏿</td>\n",
       "      <td>검은색 피부</td>\n",
       "      <td>tts</td>\n",
       "    </tr>\n",
       "    <tr>\n",
       "      <th>...</th>\n",
       "      <td>...</td>\n",
       "      <td>...</td>\n",
       "      <td>...</td>\n",
       "    </tr>\n",
       "    <tr>\n",
       "      <th>1492</th>\n",
       "      <td>🏴</td>\n",
       "      <td>펄럭이는 검은색 깃발</td>\n",
       "      <td>tts</td>\n",
       "    </tr>\n",
       "    <tr>\n",
       "      <th>1493</th>\n",
       "      <td>🏳</td>\n",
       "      <td>펄럭이는 흰색 깃발</td>\n",
       "      <td>tts</td>\n",
       "    </tr>\n",
       "    <tr>\n",
       "      <th>1494</th>\n",
       "      <td>🏳‍⚧</td>\n",
       "      <td>트랜스젠더 깃발</td>\n",
       "      <td>tts</td>\n",
       "    </tr>\n",
       "    <tr>\n",
       "      <th>1495</th>\n",
       "      <td>🏳‍🌈</td>\n",
       "      <td>무지개 깃발</td>\n",
       "      <td>tts</td>\n",
       "    </tr>\n",
       "    <tr>\n",
       "      <th>1496</th>\n",
       "      <td>🏴‍☠</td>\n",
       "      <td>해적 깃발</td>\n",
       "      <td>tts</td>\n",
       "    </tr>\n",
       "  </tbody>\n",
       "</table>\n",
       "<p>1497 rows × 3 columns</p>\n",
       "</div>"
      ],
      "text/plain": [
       "       cp   annotation type\n",
       "0       🏻        하얀 피부  tts\n",
       "1       🏼     연한 갈색 피부  tts\n",
       "2       🏽        갈색 피부  tts\n",
       "3       🏾     진한 갈색 피부  tts\n",
       "4       🏿       검은색 피부  tts\n",
       "...   ...          ...  ...\n",
       "1492    🏴  펄럭이는 검은색 깃발  tts\n",
       "1493    🏳   펄럭이는 흰색 깃발  tts\n",
       "1494  🏳‍⚧     트랜스젠더 깃발  tts\n",
       "1495  🏳‍🌈       무지개 깃발  tts\n",
       "1496  🏴‍☠        해적 깃발  tts\n",
       "\n",
       "[1497 rows x 3 columns]"
      ]
     },
     "execution_count": 105,
     "metadata": {},
     "output_type": "execute_result"
    }
   ],
   "source": [
    "df[df['type']=='tts'].reset_index(drop=True)"
   ]
  },
  {
   "cell_type": "markdown",
   "id": "fcea0970",
   "metadata": {},
   "source": [
    "## 사용법\n",
    "### 1. unicode 이모지 오픈소스 xml 크롤링\n",
    "- emoji unicode 컨소시움 (https://github.com/unicode-org)에서 cldr 페이지로 접근한다.\n",
    "- 언어별로 xml로 정리되어있는 원본페이지를 찾고, xml import를 한다.\n",
    "- \".//annotation\"위치에 있는 모든 데이터를 변환한다.\n",
    "    - 도큐먼트 설명\n",
    "        - //annotation[@cp] : emoji (key)\n",
    "        - //annotation : name (value)\n",
    "        - //annotation[@type] : TTS타입인지 아닌지 (condition)\n",
    "- type이 tts인 도큐먼트의 emoji(key) : name(value) 쌍을 구한다.\n",
    "### 2. 1번의 방법 * 한/영/프/스\n",
    "1. 한: https://raw.githubusercontent.com/unicode-org/cldr/latest/common/annotations/ko.xml\n",
    "1. 영: https://raw.githubusercontent.com/unicode-org/cldr/latest/common/annotations/en.xml\n",
    "1. 프: https://raw.githubusercontent.com/unicode-org/cldr/latest/common/annotations/fr.xml\n",
    "1. 스: https://raw.githubusercontent.com/unicode-org/cldr/latest/common/annotations/es.xml\n",
    "\n",
    "### 3. csv export\n",
    "- 한/영/프/스 도큐먼트를 한 파일로 통합하여 csv export\n",
    "- csv 설명\n",
    "    - emoji: emoji\n",
    "    - tts_ko: 한국어 name\n",
    "    - tts_en: 영어 name\n",
    "    - tts_fr: 불어 name\n",
    "    - tts_es: 스페인 name"
   ]
  },
  {
   "cell_type": "markdown",
   "id": "e57f5288",
   "metadata": {},
   "source": [
    "# 코드\n",
    "## 1. input 필드, 예시 데이터 추출"
   ]
  },
  {
   "cell_type": "code",
   "execution_count": 135,
   "id": "5c70c52b",
   "metadata": {},
   "outputs": [
    {
     "data": {
      "text/html": [
       "<div>\n",
       "<style scoped>\n",
       "    .dataframe tbody tr th:only-of-type {\n",
       "        vertical-align: middle;\n",
       "    }\n",
       "\n",
       "    .dataframe tbody tr th {\n",
       "        vertical-align: top;\n",
       "    }\n",
       "\n",
       "    .dataframe thead th {\n",
       "        text-align: right;\n",
       "    }\n",
       "</style>\n",
       "<table border=\"1\" class=\"dataframe\">\n",
       "  <thead>\n",
       "    <tr style=\"text-align: right;\">\n",
       "      <th></th>\n",
       "      <th>cp</th>\n",
       "      <th>annotation</th>\n",
       "      <th>type</th>\n",
       "    </tr>\n",
       "  </thead>\n",
       "  <tbody>\n",
       "    <tr>\n",
       "      <th>0</th>\n",
       "      <td>🏻</td>\n",
       "      <td>하얀 피부</td>\n",
       "      <td>tts</td>\n",
       "    </tr>\n",
       "    <tr>\n",
       "      <th>1</th>\n",
       "      <td>🏼</td>\n",
       "      <td>연한 갈색 피부</td>\n",
       "      <td>tts</td>\n",
       "    </tr>\n",
       "    <tr>\n",
       "      <th>2</th>\n",
       "      <td>🏽</td>\n",
       "      <td>갈색 피부</td>\n",
       "      <td>tts</td>\n",
       "    </tr>\n",
       "    <tr>\n",
       "      <th>3</th>\n",
       "      <td>🏾</td>\n",
       "      <td>진한 갈색 피부</td>\n",
       "      <td>tts</td>\n",
       "    </tr>\n",
       "    <tr>\n",
       "      <th>4</th>\n",
       "      <td>🏿</td>\n",
       "      <td>검은색 피부</td>\n",
       "      <td>tts</td>\n",
       "    </tr>\n",
       "    <tr>\n",
       "      <th>...</th>\n",
       "      <td>...</td>\n",
       "      <td>...</td>\n",
       "      <td>...</td>\n",
       "    </tr>\n",
       "    <tr>\n",
       "      <th>1492</th>\n",
       "      <td>🏴</td>\n",
       "      <td>펄럭이는 검은색 깃발</td>\n",
       "      <td>tts</td>\n",
       "    </tr>\n",
       "    <tr>\n",
       "      <th>1493</th>\n",
       "      <td>🏳</td>\n",
       "      <td>펄럭이는 흰색 깃발</td>\n",
       "      <td>tts</td>\n",
       "    </tr>\n",
       "    <tr>\n",
       "      <th>1494</th>\n",
       "      <td>🏳‍⚧</td>\n",
       "      <td>트랜스젠더 깃발</td>\n",
       "      <td>tts</td>\n",
       "    </tr>\n",
       "    <tr>\n",
       "      <th>1495</th>\n",
       "      <td>🏳‍🌈</td>\n",
       "      <td>무지개 깃발</td>\n",
       "      <td>tts</td>\n",
       "    </tr>\n",
       "    <tr>\n",
       "      <th>1496</th>\n",
       "      <td>🏴‍☠</td>\n",
       "      <td>해적 깃발</td>\n",
       "      <td>tts</td>\n",
       "    </tr>\n",
       "  </tbody>\n",
       "</table>\n",
       "<p>1497 rows × 3 columns</p>\n",
       "</div>"
      ],
      "text/plain": [
       "       cp   annotation type\n",
       "0       🏻        하얀 피부  tts\n",
       "1       🏼     연한 갈색 피부  tts\n",
       "2       🏽        갈색 피부  tts\n",
       "3       🏾     진한 갈색 피부  tts\n",
       "4       🏿       검은색 피부  tts\n",
       "...   ...          ...  ...\n",
       "1492    🏴  펄럭이는 검은색 깃발  tts\n",
       "1493    🏳   펄럭이는 흰색 깃발  tts\n",
       "1494  🏳‍⚧     트랜스젠더 깃발  tts\n",
       "1495  🏳‍🌈       무지개 깃발  tts\n",
       "1496  🏴‍☠        해적 깃발  tts\n",
       "\n",
       "[1497 rows x 3 columns]"
      ]
     },
     "execution_count": 135,
     "metadata": {},
     "output_type": "execute_result"
    }
   ],
   "source": [
    "# 한국어 -> 영어 -> 불어 -> 스페인 순서\n",
    "urls=[\"https://raw.githubusercontent.com/unicode-org/cldr/latest/common/annotations/ko.xml\",\n",
    "      \"https://raw.githubusercontent.com/unicode-org/cldr/latest/common/annotations/en.xml\",\n",
    "      \"https://raw.githubusercontent.com/unicode-org/cldr/latest/common/annotations/fr.xml\",\n",
    "      \"https://raw.githubusercontent.com/unicode-org/cldr/latest/common/annotations/es.xml\"]\n",
    "cols=['ko','en','fr','es']\n",
    "\n",
    "\n",
    "import pandas as pd\n",
    "from urllib.request import urlopen\n",
    "import xml.etree.ElementTree as ET\n",
    "with urlopen('https://raw.githubusercontent.com/unicode-org/cldr/latest/common/annotations/ko.xml') as f:\n",
    "    df = pd.read_xml(f, xpath=\".//annotation\")\n",
    "df[df['type']=='tts'].reset_index(drop=True)"
   ]
  },
  {
   "cell_type": "markdown",
   "id": "cb48c871",
   "metadata": {},
   "source": [
    "## 2. 언어별로 테이블 추출 및 concat\n",
    "1. xml to DataFrame 변환\n",
    "1. //annotation 도큐먼트만 추출, type=='tts'인 것들만\n",
    "1. 언어별로 추출한 것을 concat\n",
    "1. concat할때 cp열과 annotation열 (name) 합침"
   ]
  },
  {
   "cell_type": "code",
   "execution_count": 203,
   "id": "038af624",
   "metadata": {},
   "outputs": [],
   "source": [
    "# concat 리스트 선언\n",
    "concat_df=[]\n",
    "\n",
    "# lang별로 도큐먼트 추출 및 concat\n",
    "for i in range(len(urls)):\n",
    "    with urlopen(urls[i]) as f:\n",
    "        df = pd.read_xml(f, xpath=\".//annotation\")\n",
    "    temp=df[df['type']=='tts'].reset_index(drop=True)\n",
    "    #temp.rename(columns={'annotation':cols[i]}, inplace=True)\n",
    "    \n",
    "    # cp열, annotation열만 추출하여 리스트에 담기\n",
    "    concat_df.append(temp[['cp','annotation']])"
   ]
  },
  {
   "cell_type": "code",
   "execution_count": 211,
   "id": "4a150a68",
   "metadata": {},
   "outputs": [
    {
     "data": {
      "text/html": [
       "<div>\n",
       "<style scoped>\n",
       "    .dataframe tbody tr th:only-of-type {\n",
       "        vertical-align: middle;\n",
       "    }\n",
       "\n",
       "    .dataframe tbody tr th {\n",
       "        vertical-align: top;\n",
       "    }\n",
       "\n",
       "    .dataframe thead th {\n",
       "        text-align: right;\n",
       "    }\n",
       "</style>\n",
       "<table border=\"1\" class=\"dataframe\">\n",
       "  <thead>\n",
       "    <tr style=\"text-align: right;\">\n",
       "      <th></th>\n",
       "      <th>cp</th>\n",
       "      <th>ko</th>\n",
       "      <th>en</th>\n",
       "      <th>fr</th>\n",
       "      <th>es</th>\n",
       "    </tr>\n",
       "  </thead>\n",
       "  <tbody>\n",
       "    <tr>\n",
       "      <th>0</th>\n",
       "      <td>🏻</td>\n",
       "      <td>하얀 피부</td>\n",
       "      <td>light skin tone</td>\n",
       "      <td>peau claire</td>\n",
       "      <td>tono de piel claro</td>\n",
       "    </tr>\n",
       "    <tr>\n",
       "      <th>1</th>\n",
       "      <td>🏼</td>\n",
       "      <td>연한 갈색 피부</td>\n",
       "      <td>medium-light skin tone</td>\n",
       "      <td>peau moyennement claire</td>\n",
       "      <td>tono de piel claro medio</td>\n",
       "    </tr>\n",
       "    <tr>\n",
       "      <th>2</th>\n",
       "      <td>🏽</td>\n",
       "      <td>갈색 피부</td>\n",
       "      <td>medium skin tone</td>\n",
       "      <td>peau légèrement mate</td>\n",
       "      <td>tono de piel medio</td>\n",
       "    </tr>\n",
       "    <tr>\n",
       "      <th>3</th>\n",
       "      <td>🏾</td>\n",
       "      <td>진한 갈색 피부</td>\n",
       "      <td>medium-dark skin tone</td>\n",
       "      <td>peau mate</td>\n",
       "      <td>tono de piel oscuro medio</td>\n",
       "    </tr>\n",
       "    <tr>\n",
       "      <th>4</th>\n",
       "      <td>🏿</td>\n",
       "      <td>검은색 피부</td>\n",
       "      <td>dark skin tone</td>\n",
       "      <td>peau foncée</td>\n",
       "      <td>tono de piel oscuro</td>\n",
       "    </tr>\n",
       "    <tr>\n",
       "      <th>5</th>\n",
       "      <td>⚧</td>\n",
       "      <td>트랜스젠더 기호</td>\n",
       "      <td>transgender symbol</td>\n",
       "      <td>symbole de la communauté transgenre</td>\n",
       "      <td>símbolo de transgénero</td>\n",
       "    </tr>\n",
       "    <tr>\n",
       "      <th>6</th>\n",
       "      <td>🤌</td>\n",
       "      <td>꼬집는 손가락</td>\n",
       "      <td>pinched fingers</td>\n",
       "      <td>bout des doigts joints</td>\n",
       "      <td>dedos juntos apuntando hacia arriba</td>\n",
       "    </tr>\n",
       "    <tr>\n",
       "      <th>7</th>\n",
       "      <td>🥲</td>\n",
       "      <td>눈물 흘리며 웃는 얼굴</td>\n",
       "      <td>smiling face with tear</td>\n",
       "      <td>Visage souriant avec une larme</td>\n",
       "      <td>cara sonriente con lágrima</td>\n",
       "    </tr>\n",
       "    <tr>\n",
       "      <th>8</th>\n",
       "      <td>🥷</td>\n",
       "      <td>닌자</td>\n",
       "      <td>ninja</td>\n",
       "      <td>ninja</td>\n",
       "      <td>ninja</td>\n",
       "    </tr>\n",
       "    <tr>\n",
       "      <th>9</th>\n",
       "      <td>🥸</td>\n",
       "      <td>변장한 얼굴</td>\n",
       "      <td>disguised face</td>\n",
       "      <td>visage déguisé</td>\n",
       "      <td>cara disfrazada</td>\n",
       "    </tr>\n",
       "  </tbody>\n",
       "</table>\n",
       "</div>"
      ],
      "text/plain": [
       "  cp            ko                      en  \\\n",
       "0  🏻         하얀 피부         light skin tone   \n",
       "1  🏼      연한 갈색 피부  medium-light skin tone   \n",
       "2  🏽         갈색 피부        medium skin tone   \n",
       "3  🏾      진한 갈색 피부   medium-dark skin tone   \n",
       "4  🏿        검은색 피부          dark skin tone   \n",
       "5  ⚧      트랜스젠더 기호      transgender symbol   \n",
       "6  🤌       꼬집는 손가락         pinched fingers   \n",
       "7  🥲  눈물 흘리며 웃는 얼굴  smiling face with tear   \n",
       "8  🥷            닌자                   ninja   \n",
       "9  🥸        변장한 얼굴          disguised face   \n",
       "\n",
       "                                    fr                                   es  \n",
       "0                          peau claire                   tono de piel claro  \n",
       "1              peau moyennement claire             tono de piel claro medio  \n",
       "2                 peau légèrement mate                   tono de piel medio  \n",
       "3                            peau mate            tono de piel oscuro medio  \n",
       "4                          peau foncée                  tono de piel oscuro  \n",
       "5  symbole de la communauté transgenre               símbolo de transgénero  \n",
       "6               bout des doigts joints  dedos juntos apuntando hacia arriba  \n",
       "7       Visage souriant avec une larme           cara sonriente con lágrima  \n",
       "8                                ninja                                ninja  \n",
       "9                       visage déguisé                      cara disfrazada  "
      ]
     },
     "execution_count": 211,
     "metadata": {},
     "output_type": "execute_result"
    }
   ],
   "source": [
    "# concat 리스트의 데이터프레임들을 concat 실시\n",
    "test=pd.concat(concat_df, axis=1, join='inner')\n",
    "test=test.loc[:,~test.T.duplicated()]\n",
    "\n",
    "# 언어별로 열 이름 지정\n",
    "test.columns=['cp']+cols\n",
    "\n",
    "# 결과 출력\n",
    "test[:10]"
   ]
  },
  {
   "cell_type": "code",
   "execution_count": 212,
   "id": "ef093a7e",
   "metadata": {},
   "outputs": [],
   "source": [
    "test.to_csv('1.csv')"
   ]
  },
  {
   "cell_type": "code",
   "execution_count": null,
   "id": "cbaae377",
   "metadata": {},
   "outputs": [],
   "source": []
  }
 ],
 "metadata": {
  "kernelspec": {
   "display_name": "Python 3 (ipykernel)",
   "language": "python",
   "name": "python3"
  },
  "language_info": {
   "codemirror_mode": {
    "name": "ipython",
    "version": 3
   },
   "file_extension": ".py",
   "mimetype": "text/x-python",
   "name": "python",
   "nbconvert_exporter": "python",
   "pygments_lexer": "ipython3",
   "version": "3.9.12"
  }
 },
 "nbformat": 4,
 "nbformat_minor": 5
}
