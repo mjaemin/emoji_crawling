{
 "cells": [
  {
   "cell_type": "markdown",
   "id": "15e3df9f",
   "metadata": {},
   "source": [
    "# emoji 크롤링 및 파싱"
   ]
  },
  {
   "cell_type": "code",
   "execution_count": 222,
   "id": "bbdb7236",
   "metadata": {},
   "outputs": [],
   "source": [
    "# 파일이름\n",
    "resultfilename='20230216_emoji_name_dict.csv'"
   ]
  },
  {
   "cell_type": "markdown",
   "id": "13c0362b",
   "metadata": {},
   "source": [
    "## 사용법\n",
    "### 1. unicode 이모지 오픈소스 xml 크롤링\n",
    "- emoji unicode 컨소시움 (https://github.com/unicode-org)에서 cldr 페이지로 접근한다.\n",
    "- 참고 프로젝트: 유니코드 콘소시움 (https://github.com/unicode-org)\n",
    "- 언어별로 xml로 정리되어있는 원본페이지를 찾고, xml import를 한다.\n",
    "- \".//annotation\"위치에 있는 모든 데이터를 변환한다.\n",
    "    - 도큐먼트 설명\n",
    "        - //annotation[@cp] : emoji (key)\n",
    "        - //annotation : name (value)\n",
    "        - //annotation[@type] : TTS타입인지 아닌지 (condition)\n",
    "- type이 tts인 도큐먼트의 emoji(key) : name(value) 쌍을 구한다.\n",
    "### 2. 1번의 방법 * 한/영/프/스\n",
    "1. 한: https://raw.githubusercontent.com/unicode-org/cldr/latest/common/annotations/ko.xml\n",
    "1. 영: https://raw.githubusercontent.com/unicode-org/cldr/latest/common/annotations/en.xml\n",
    "1. 프: https://raw.githubusercontent.com/unicode-org/cldr/latest/common/annotations/fr.xml\n",
    "1. 스: https://raw.githubusercontent.com/unicode-org/cldr/latest/common/annotations/es.xml\n",
    "\n",
    "### 3. csv export\n",
    "- 한/영/프/스 도큐먼트를 한 파일로 통합하여 csv export\n",
    "- csv 설명\n",
    "    - emoji: emoji\n",
    "    - tts_ko: 한국어 name\n",
    "    - tts_en: 영어 name\n",
    "    - tts_fr: 불어 name\n",
    "    - tts_es: 스페인 name"
   ]
  },
  {
   "cell_type": "markdown",
   "id": "2373802b",
   "metadata": {},
   "source": [
    "# 코드\n",
    "## 1. input 필드, 예시 데이터 추출"
   ]
  },
  {
   "cell_type": "code",
   "execution_count": 220,
   "id": "1a3e35ba",
   "metadata": {},
   "outputs": [
    {
     "data": {
      "text/html": [
       "<div>\n",
       "<style scoped>\n",
       "    .dataframe tbody tr th:only-of-type {\n",
       "        vertical-align: middle;\n",
       "    }\n",
       "\n",
       "    .dataframe tbody tr th {\n",
       "        vertical-align: top;\n",
       "    }\n",
       "\n",
       "    .dataframe thead th {\n",
       "        text-align: right;\n",
       "    }\n",
       "</style>\n",
       "<table border=\"1\" class=\"dataframe\">\n",
       "  <thead>\n",
       "    <tr style=\"text-align: right;\">\n",
       "      <th></th>\n",
       "      <th>cp</th>\n",
       "      <th>annotation</th>\n",
       "      <th>type</th>\n",
       "    </tr>\n",
       "  </thead>\n",
       "  <tbody>\n",
       "    <tr>\n",
       "      <th>0</th>\n",
       "      <td>🏻</td>\n",
       "      <td>하얀 피부</td>\n",
       "      <td>tts</td>\n",
       "    </tr>\n",
       "    <tr>\n",
       "      <th>1</th>\n",
       "      <td>🏼</td>\n",
       "      <td>연한 갈색 피부</td>\n",
       "      <td>tts</td>\n",
       "    </tr>\n",
       "    <tr>\n",
       "      <th>2</th>\n",
       "      <td>🏽</td>\n",
       "      <td>갈색 피부</td>\n",
       "      <td>tts</td>\n",
       "    </tr>\n",
       "    <tr>\n",
       "      <th>3</th>\n",
       "      <td>🏾</td>\n",
       "      <td>진한 갈색 피부</td>\n",
       "      <td>tts</td>\n",
       "    </tr>\n",
       "    <tr>\n",
       "      <th>4</th>\n",
       "      <td>🏿</td>\n",
       "      <td>검은색 피부</td>\n",
       "      <td>tts</td>\n",
       "    </tr>\n",
       "    <tr>\n",
       "      <th>...</th>\n",
       "      <td>...</td>\n",
       "      <td>...</td>\n",
       "      <td>...</td>\n",
       "    </tr>\n",
       "    <tr>\n",
       "      <th>1492</th>\n",
       "      <td>🏴</td>\n",
       "      <td>펄럭이는 검은색 깃발</td>\n",
       "      <td>tts</td>\n",
       "    </tr>\n",
       "    <tr>\n",
       "      <th>1493</th>\n",
       "      <td>🏳</td>\n",
       "      <td>펄럭이는 흰색 깃발</td>\n",
       "      <td>tts</td>\n",
       "    </tr>\n",
       "    <tr>\n",
       "      <th>1494</th>\n",
       "      <td>🏳‍⚧</td>\n",
       "      <td>트랜스젠더 깃발</td>\n",
       "      <td>tts</td>\n",
       "    </tr>\n",
       "    <tr>\n",
       "      <th>1495</th>\n",
       "      <td>🏳‍🌈</td>\n",
       "      <td>무지개 깃발</td>\n",
       "      <td>tts</td>\n",
       "    </tr>\n",
       "    <tr>\n",
       "      <th>1496</th>\n",
       "      <td>🏴‍☠</td>\n",
       "      <td>해적 깃발</td>\n",
       "      <td>tts</td>\n",
       "    </tr>\n",
       "  </tbody>\n",
       "</table>\n",
       "<p>1497 rows × 3 columns</p>\n",
       "</div>"
      ],
      "text/plain": [
       "       cp   annotation type\n",
       "0       🏻        하얀 피부  tts\n",
       "1       🏼     연한 갈색 피부  tts\n",
       "2       🏽        갈색 피부  tts\n",
       "3       🏾     진한 갈색 피부  tts\n",
       "4       🏿       검은색 피부  tts\n",
       "...   ...          ...  ...\n",
       "1492    🏴  펄럭이는 검은색 깃발  tts\n",
       "1493    🏳   펄럭이는 흰색 깃발  tts\n",
       "1494  🏳‍⚧     트랜스젠더 깃발  tts\n",
       "1495  🏳‍🌈       무지개 깃발  tts\n",
       "1496  🏴‍☠        해적 깃발  tts\n",
       "\n",
       "[1497 rows x 3 columns]"
      ]
     },
     "execution_count": 220,
     "metadata": {},
     "output_type": "execute_result"
    }
   ],
   "source": [
    "# 한국어 -> 영어 -> 불어 -> 스페인 순서\n",
    "urls=[\"https://raw.githubusercontent.com/unicode-org/cldr/latest/common/annotations/ko.xml\",\n",
    "      \"https://raw.githubusercontent.com/unicode-org/cldr/latest/common/annotations/en.xml\",\n",
    "      \"https://raw.githubusercontent.com/unicode-org/cldr/latest/common/annotations/fr.xml\",\n",
    "      \"https://raw.githubusercontent.com/unicode-org/cldr/latest/common/annotations/es.xml\"]\n",
    "cols=['ko','en','fr','es']\n",
    "#resultfilename='emoji_name_dict.csv'\n",
    "\n",
    "\n",
    "import pandas as pd\n",
    "from urllib.request import urlopen\n",
    "import xml.etree.ElementTree as ET\n",
    "with urlopen('https://raw.githubusercontent.com/unicode-org/cldr/latest/common/annotations/ko.xml') as f:\n",
    "    df = pd.read_xml(f, xpath=\".//annotation\")\n",
    "df[df['type']=='tts'].reset_index(drop=True)"
   ]
  },
  {
   "cell_type": "markdown",
   "id": "ef40edb4",
   "metadata": {},
   "source": [
    "## 2. 언어별로 테이블 추출 및 concat\n",
    "1. xml to DataFrame 변환\n",
    "1. //annotation 도큐먼트만 추출, type=='tts'인 것들만\n",
    "1. 언어별로 추출한 것을 concat\n",
    "1. concat할때 cp열과 annotation열 (name) 합침"
   ]
  },
  {
   "cell_type": "code",
   "execution_count": 216,
   "id": "04d2158f",
   "metadata": {},
   "outputs": [],
   "source": [
    "# concat 리스트 선언\n",
    "concat_df=[]\n",
    "\n",
    "# lang별로 도큐먼트 추출 및 concat\n",
    "for i in range(len(urls)):\n",
    "    with urlopen(urls[i]) as f:\n",
    "        df = pd.read_xml(f, xpath=\".//annotation\")\n",
    "    temp=df[df['type']=='tts'].reset_index(drop=True)\n",
    "    #temp.rename(columns={'annotation':cols[i]}, inplace=True)\n",
    "    \n",
    "    # cp열, annotation열만 추출하여 리스트에 담기\n",
    "    concat_df.append(temp[['cp','annotation']])"
   ]
  },
  {
   "cell_type": "code",
   "execution_count": 7,
   "id": "aa744043",
   "metadata": {},
   "outputs": [
    {
     "name": "stdout",
     "output_type": "stream",
     "text": [
      "  cp            ko                      en  \\\n",
      "0  🏻         하얀 피부         light skin tone   \n",
      "1  🏼      연한 갈색 피부  medium-light skin tone   \n",
      "2  🏽         갈색 피부        medium skin tone   \n",
      "3  🏾      진한 갈색 피부   medium-dark skin tone   \n",
      "4  🏿        검은색 피부          dark skin tone   \n",
      "5  ⚧      트랜스젠더 기호      transgender symbol   \n",
      "6  🤌       꼬집는 손가락         pinched fingers   \n",
      "7  🥲  눈물 흘리며 웃는 얼굴  smiling face with tear   \n",
      "8  🥷            닌자                   ninja   \n",
      "9  🥸        변장한 얼굴          disguised face   \n",
      "\n",
      "                                    fr                                   es  \n",
      "0                          peau claire                   tono de piel claro  \n",
      "1              peau moyennement claire             tono de piel claro medio  \n",
      "2                 peau légèrement mate                   tono de piel medio  \n",
      "3                            peau mate            tono de piel oscuro medio  \n",
      "4                          peau foncée                  tono de piel oscuro  \n",
      "5  symbole de la communauté transgenre               símbolo de transgénero  \n",
      "6               bout des doigts joints  dedos juntos apuntando hacia arriba  \n",
      "7       Visage souriant avec une larme           cara sonriente con lágrima  \n",
      "8                                ninja                                ninja  \n",
      "9                       visage déguisé                      cara disfrazada  \n"
     ]
    }
   ],
   "source": [
    "# concat 리스트의 데이터프레임들을 concat 실시\n",
    "test=pd.concat(concat_df, axis=1, join='inner')\n",
    "test=test.loc[:,~test.T.duplicated()]\n",
    "# 언어별로 열 이름 지정\n",
    "test.columns=['cp']+cols\n",
    "# 결과 출력\n",
    "test.to_csv(resultfilename, index=False)\n",
    "print(test[:10])"
   ]
  },
  {
   "cell_type": "code",
   "execution_count": null,
   "id": "571183bf",
   "metadata": {},
   "outputs": [],
   "source": []
  }
 ],
 "metadata": {
  "kernelspec": {
   "display_name": "Python 3 (ipykernel)",
   "language": "python",
   "name": "python3"
  },
  "language_info": {
   "codemirror_mode": {
    "name": "ipython",
    "version": 3
   },
   "file_extension": ".py",
   "mimetype": "text/x-python",
   "name": "python",
   "nbconvert_exporter": "python",
   "pygments_lexer": "ipython3",
   "version": "3.9.12"
  }
 },
 "nbformat": 4,
 "nbformat_minor": 5
}
